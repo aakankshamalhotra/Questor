{
 "cells": [
  {
   "cell_type": "markdown",
   "id": "656d0fc8",
   "metadata": {},
   "source": [
    "CONNECTING MEMORY WITH LLM\n",
    "\n",
    "1. Setup LLM (Using gemini and gcp api key)\n",
    "2. Connect LLM with FAISS \n",
    "3. Add question generator\n",
    "4. Create chain"
   ]
  },
  {
   "cell_type": "code",
   "execution_count": null,
   "id": "7ebd424c",
   "metadata": {},
   "outputs": [],
   "source": [
    "!pip install google-generativeai langchain-google-genai python-dotenv"
   ]
  },
  {
   "cell_type": "code",
   "execution_count": 13,
   "id": "3f45ef7c",
   "metadata": {},
   "outputs": [],
   "source": [
    "import os\n",
    "from langchain_core.prompts import PromptTemplate\n",
    "from langchain.embeddings import HuggingFaceEmbeddings\n",
    "from langchain_community.vectorstores import FAISS\n",
    "from dotenv import load_dotenv, find_dotenv\n",
    "load_dotenv(find_dotenv())\n",
    "from langchain.chains import ConversationalRetrievalChain\n",
    "from langchain.chains.question_answering import load_qa_chain\n",
    "from langchain.chains import LLMChain\n",
    "from langchain_google_genai import ChatGoogleGenerativeAI\n"
   ]
  },
  {
   "cell_type": "code",
   "execution_count": 30,
   "id": "ab6147cf",
   "metadata": {},
   "outputs": [
    {
     "data": {
      "text/plain": [
       "True"
      ]
     },
     "execution_count": 30,
     "metadata": {},
     "output_type": "execute_result"
    }
   ],
   "source": [
    "# Load .env file\n",
    "load_dotenv()"
   ]
  },
  {
   "cell_type": "code",
   "execution_count": null,
   "id": "da7a1f83",
   "metadata": {},
   "outputs": [],
   "source": [
    "# Setting up LLM using Gemini\n",
    "\n",
    "def load_llm():\n",
    "    llm = ChatGoogleGenerativeAI(\n",
    "        model=\"gemini-1.5-flash-latest\",\n",
    "        google_api_key=os.getenv(\"GEMINI_API_KEY\"),\n",
    "        temperature=0.7,\n",
    "        model_kwargs={\n",
    "            \"max_outputs_tokens\": 6000\n",
    "        }\n",
    "       \n",
    "    )\n",
    "    \n",
    "    return llm"
   ]
  },
  {
   "cell_type": "code",
   "execution_count": 44,
   "id": "0183704b",
   "metadata": {},
   "outputs": [],
   "source": [
    "\n",
    "# Connecting LLM with FAISS \n",
    "\n",
    "DB_FAISS_PATH=\"vectorstore/db_faiss\"\n",
    "\n",
    "custom_prompt_template= PromptTemplate(\n",
    "    input_variables=[\"context\", \"question\"],\n",
    "    template=\"\"\"\"\n",
    "Use the pieces and chunks of information provided as data to you to answer user's questions. \n",
    "If you dont know the answers, just say that you dont have knowledge for this and that you dont know, dont try to make up an excuse or an answer. \n",
    "Do not provide any answer out of the given and asked context.\n",
    "Do not entertain obscene questions.\n",
    "Be a good B.Tech tutor.\n",
    "Give a long, detailed answer. Add examples and explain step by step\n",
    "Use bullet points if needed.\n",
    "\n",
    "Context: {context}\n",
    "Question: {question}\n",
    "\n",
    "Start the answer by greeting or saying hi to the user.\n",
    "Give the answer from the next line.\n",
    "Avoid small talk please.\n",
    "\"\"\")\n",
    "\n",
    "def set_custom_prompt(custom_prompt_template):\n",
    "    prompt=PromptTemplate(template=custom_prompt_template, input_variables=[\"context\", \"question\"])\n",
    "    return prompt\n",
    "\n",
    "#Loading DB\n",
    "embedding_model=HuggingFaceEmbeddings(model_name=\"sentence-transformers/all-MiniLM-L6-v2\")\n",
    "db=FAISS.load_local(DB_FAISS_PATH, embedding_model, allow_dangerous_deserialization=True )\n"
   ]
  },
  {
   "cell_type": "code",
   "execution_count": null,
   "id": "95e53d10",
   "metadata": {},
   "outputs": [],
   "source": [
    "# Create a chain"
   ]
  },
  {
   "cell_type": "code",
   "execution_count": 45,
   "id": "03fd7564",
   "metadata": {},
   "outputs": [],
   "source": [
    "# Question Generator\n",
    "question_gen_prompt = PromptTemplate(\n",
    "    input_variables=[\"chat_history\", \"question\"],\n",
    "    template=\"\"\"\n",
    "    Given the following conversation history and a follow-up question, rephrase the follow-up question to be a standalone question.\n",
    "\n",
    "    Chat History:\n",
    "    {chat_history}\n",
    "\n",
    "    Follow-Up Question:\n",
    "    {question}\n",
    "\n",
    "    Standalone Question:\n",
    "    \"\"\"\n",
    ")\n",
    "\n",
    "llm = load_llm()\n",
    "\n",
    "combine_docs_chain = load_qa_chain(\n",
    "    llm=llm,  # =load_llm(\"mistralai/Mistral-7B-Instruct-v0.2\"),\n",
    "    chain_type=\"stuff\",\n",
    "    prompt=custom_prompt_template\n",
    ")\n",
    "\n",
    "question_generator = LLMChain(\n",
    "    llm=llm,  # =load_llm(\"mistralai/Mistral-7B-Instruct-v0.2\"),\n",
    "    prompt=question_gen_prompt\n",
    ")\n"
   ]
  },
  {
   "cell_type": "code",
   "execution_count": 46,
   "id": "02f23d13",
   "metadata": {},
   "outputs": [
    {
     "name": "stdout",
     "output_type": "stream",
     "text": [
      "content='Cleopatra lived closer in time to the invention of the iPhone than to the building of the Great Pyramid of Giza.' additional_kwargs={} response_metadata={'prompt_feedback': {'block_reason': 0, 'safety_ratings': []}, 'finish_reason': 'STOP', 'safety_ratings': []} id='run--b18be282-834b-431e-b1a5-27ba56275753-0' usage_metadata={'input_tokens': 5, 'output_tokens': 25, 'total_tokens': 30, 'input_token_details': {'cache_read': 0}}\n"
     ]
    }
   ],
   "source": [
    "llm = load_llm()\n",
    "print(llm.invoke(\"Tell me a fact.\"))"
   ]
  },
  {
   "cell_type": "code",
   "execution_count": 47,
   "id": "20f2e2de",
   "metadata": {},
   "outputs": [],
   "source": [
    "retriever=db.as_retriever(search_kwargs={'k':3})\n",
    "\n",
    "# Combining \n",
    "\n",
    "qa_chain=ConversationalRetrievalChain(\n",
    "    retriever=retriever,\n",
    "    combine_docs_chain=combine_docs_chain,\n",
    "    question_generator=question_generator,\n",
    "    return_source_documents=True   \n",
    ")"
   ]
  },
  {
   "cell_type": "code",
   "execution_count": 50,
   "id": "0fcd7a02",
   "metadata": {},
   "outputs": [
    {
     "name": "stdout",
     "output_type": "stream",
     "text": [
      "RAW RESPONSE: {'question': 'what is an ER diagram', 'chat_history': '', 'answer': 'Hi!\\n\\nAn ER diagram, or Entity-Relationship diagram, is a data model that describes the database.  It visually represents the database\\'s structure by showing tables (entities), the attributes within those tables, and the relationships between the tables.  Think of it as a blueprint for your database.  It helps in understanding how different pieces of information relate to each other before you actually build the database.  For example, you might have an entity called \"Customers\" with attributes like CustomerID, Name, Address, and Phone Number.  Another entity might be \"Orders\" with attributes like OrderID, OrderDate, and CustomerID.  The ER diagram would then show a relationship between \"Customers\" and \"Orders,\" indicating that one customer can have multiple orders (a one-to-many relationship).  This visual representation is crucial for designing a well-structured and efficient database.  The process of creating an ER diagram is part of the conceptual design phase of database development.', 'source_documents': [Document(id='3fc6193d-2ab6-4034-a847-6c2009ba910f', metadata={'producer': 'Prince 12.5 (www.princexml.com)', 'creator': 'Pressbooks 5.27.1', 'creationdate': '', 'title': 'Database Design - 2nd Edition', 'source': 'data\\\\Database-Design-2nd-Edition-1660153697.pdf', 'total_pages': 153, 'page': 29, 'page_label': '30'}, page_content='techniques \\nentity relationship diagram (ERD): a data model describing the database showing tables, attributes and \\nrelationships \\nexternal model:  represents the user’s view of the database \\nexternal schema: user view \\ninternal model: a representation of the database as seen by the DBMS \\nlogical data independence: the ability to change the logical schema without changing the external schema \\nlogical design: where you create all the tables, constraints, keys, rules, etc. \\nlogical schema: a conceptual design of the database done on paper or a whiteboard, much like architectural \\ndrawings for a house \\noperating system (OS): manages the physical level of the physical model \\nphysical data independence: the immunity of the internal model to changes in the physical model \\nphysical model: the physical representation of the database \\nschema: an overall description of a database \\nExercises \\n1. Describe the purpose of a conceptual design.'), Document(id='32c7075d-f8a1-4fc0-979c-29984c0cf906', metadata={'producer': 'Prince 12.5 (www.princexml.com)', 'creator': 'Pressbooks 5.27.1', 'creationdate': '', 'title': 'Database Design - 2nd Edition', 'source': 'data\\\\Database-Design-2nd-Edition-1660153697.pdf', 'total_pages': 153, 'page': 96, 'page_label': '97'}, page_content='data are held in a f ile format that is not appr opriate for using the impor t function, then i t is ne cessary to pr epare an \\napplication program that reads in the old da ta, transforms them as ne cessary and then inser ts them into the database \\nusing SQL code specifically produced for that purpose. The transfer of large quantities of existing data into a database is \\nreferred to as a bulk load. Bulk loading of data may involve very large quantities of data being loaded, one table at a time \\nso you may find that there are DBMS facilities to postpone constraint checking until the end of the bulk loading. \\nGuidelines for Developing an ER Diagram \\nNote:  These are general guidelines that will assist in developing a strong basis for the actual database design (the logical \\nmodel). \\n1. Document all entities discovered during the information-gathering stage. \\n2. Document all attributes that belong to each entity. Select candidate and primary keys. Ensure that all non-key'), Document(id='a85541df-decf-4414-9988-b663d9e1a68c', metadata={'producer': 'Prince 12.5 (www.princexml.com)', 'creator': 'Pressbooks 5.27.1', 'creationdate': '', 'title': 'Database Design - 2nd Edition', 'source': 'data\\\\Database-Design-2nd-Edition-1660153697.pdf', 'total_pages': 153, 'page': 96, 'page_label': '97'}, page_content='so you may find that there are DBMS facilities to postpone constraint checking until the end of the bulk loading. \\nGuidelines for Developing an ER Diagram \\nNote:  These are general guidelines that will assist in developing a strong basis for the actual database design (the logical \\nmodel). \\n1. Document all entities discovered during the information-gathering stage. \\n2. Document all attributes that belong to each entity. Select candidate and primary keys. Ensure that all non-key \\nattributes for each entity are full-functionally dependent on the primary key. \\n3. Develop an initial ER diagram and review it with appropriate personnel. (Remember that this is an iterative \\nprocess.) \\n4. Create new entities (tables) for multivalued attributes and repeating groups. Incorporate these new entities \\n(tables) in the ER diagram. Review with appropriate personnel. \\nChapter 13 Database Development Process  |  88')]}\n",
      "RESULT: Hi!\n",
      "\n",
      "An ER diagram, or Entity-Relationship diagram, is a data model that describes the database.  It visually represents the database's structure by showing tables (entities), the attributes within those tables, and the relationships between the tables.  Think of it as a blueprint for your database.  It helps in understanding how different pieces of information relate to each other before you actually build the database.  For example, you might have an entity called \"Customers\" with attributes like CustomerID, Name, Address, and Phone Number.  Another entity might be \"Orders\" with attributes like OrderID, OrderDate, and CustomerID.  The ER diagram would then show a relationship between \"Customers\" and \"Orders,\" indicating that one customer can have multiple orders (a one-to-many relationship).  This visual representation is crucial for designing a well-structured and efficient database.  The process of creating an ER diagram is part of the conceptual design phase of database development.\n",
      "SOURCE DOCUMENTS: [Document(id='3fc6193d-2ab6-4034-a847-6c2009ba910f', metadata={'producer': 'Prince 12.5 (www.princexml.com)', 'creator': 'Pressbooks 5.27.1', 'creationdate': '', 'title': 'Database Design - 2nd Edition', 'source': 'data\\\\Database-Design-2nd-Edition-1660153697.pdf', 'total_pages': 153, 'page': 29, 'page_label': '30'}, page_content='techniques \\nentity relationship diagram (ERD): a data model describing the database showing tables, attributes and \\nrelationships \\nexternal model:  represents the user’s view of the database \\nexternal schema: user view \\ninternal model: a representation of the database as seen by the DBMS \\nlogical data independence: the ability to change the logical schema without changing the external schema \\nlogical design: where you create all the tables, constraints, keys, rules, etc. \\nlogical schema: a conceptual design of the database done on paper or a whiteboard, much like architectural \\ndrawings for a house \\noperating system (OS): manages the physical level of the physical model \\nphysical data independence: the immunity of the internal model to changes in the physical model \\nphysical model: the physical representation of the database \\nschema: an overall description of a database \\nExercises \\n1. Describe the purpose of a conceptual design.'), Document(id='32c7075d-f8a1-4fc0-979c-29984c0cf906', metadata={'producer': 'Prince 12.5 (www.princexml.com)', 'creator': 'Pressbooks 5.27.1', 'creationdate': '', 'title': 'Database Design - 2nd Edition', 'source': 'data\\\\Database-Design-2nd-Edition-1660153697.pdf', 'total_pages': 153, 'page': 96, 'page_label': '97'}, page_content='data are held in a f ile format that is not appr opriate for using the impor t function, then i t is ne cessary to pr epare an \\napplication program that reads in the old da ta, transforms them as ne cessary and then inser ts them into the database \\nusing SQL code specifically produced for that purpose. The transfer of large quantities of existing data into a database is \\nreferred to as a bulk load. Bulk loading of data may involve very large quantities of data being loaded, one table at a time \\nso you may find that there are DBMS facilities to postpone constraint checking until the end of the bulk loading. \\nGuidelines for Developing an ER Diagram \\nNote:  These are general guidelines that will assist in developing a strong basis for the actual database design (the logical \\nmodel). \\n1. Document all entities discovered during the information-gathering stage. \\n2. Document all attributes that belong to each entity. Select candidate and primary keys. Ensure that all non-key'), Document(id='a85541df-decf-4414-9988-b663d9e1a68c', metadata={'producer': 'Prince 12.5 (www.princexml.com)', 'creator': 'Pressbooks 5.27.1', 'creationdate': '', 'title': 'Database Design - 2nd Edition', 'source': 'data\\\\Database-Design-2nd-Edition-1660153697.pdf', 'total_pages': 153, 'page': 96, 'page_label': '97'}, page_content='so you may find that there are DBMS facilities to postpone constraint checking until the end of the bulk loading. \\nGuidelines for Developing an ER Diagram \\nNote:  These are general guidelines that will assist in developing a strong basis for the actual database design (the logical \\nmodel). \\n1. Document all entities discovered during the information-gathering stage. \\n2. Document all attributes that belong to each entity. Select candidate and primary keys. Ensure that all non-key \\nattributes for each entity are full-functionally dependent on the primary key. \\n3. Develop an initial ER diagram and review it with appropriate personnel. (Remember that this is an iterative \\nprocess.) \\n4. Create new entities (tables) for multivalued attributes and repeating groups. Incorporate these new entities \\n(tables) in the ER diagram. Review with appropriate personnel. \\nChapter 13 Database Development Process  |  88')]\n"
     ]
    }
   ],
   "source": [
    "# Invoking\n",
    "user_query=input('Write your question: ')\n",
    "chat_history=''\n",
    "response=qa_chain.invoke({'question': user_query,\n",
    "                          'chat_history': chat_history})\n",
    "print(\"RAW RESPONSE:\", response)\n",
    "\n",
    "print(\"RESULT:\", response.get('answer', response))\n",
    "print(\"SOURCE DOCUMENTS:\", response.get('source_documents', 'N/A'))"
   ]
  }
 ],
 "metadata": {
  "kernelspec": {
   "display_name": "Python 3",
   "language": "python",
   "name": "python3"
  },
  "language_info": {
   "codemirror_mode": {
    "name": "ipython",
    "version": 3
   },
   "file_extension": ".py",
   "mimetype": "text/x-python",
   "name": "python",
   "nbconvert_exporter": "python",
   "pygments_lexer": "ipython3",
   "version": "3.10.0"
  }
 },
 "nbformat": 4,
 "nbformat_minor": 5
}
