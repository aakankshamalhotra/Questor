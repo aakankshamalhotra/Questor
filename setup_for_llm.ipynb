{
 "cells": [
  {
   "cell_type": "markdown",
   "id": "ada857e7",
   "metadata": {},
   "source": [
    "Steps for creating a setup LLM\n",
    "\n",
    "1. Load raw PDFs, Books, Notes\n",
    "2. Create chunks\n",
    "3. Create vector embeddings\n",
    "4. Store embeddings in FAISS"
   ]
  },
  {
   "cell_type": "code",
   "execution_count": 2,
   "id": "0e66b8a5",
   "metadata": {},
   "outputs": [],
   "source": [
    "#REQUIREMENTS \n",
    "\n",
    "from langchain_community.document_loaders import PyPDFLoader, DirectoryLoader\n",
    "from langchain.text_splitter import RecursiveCharacterTextSplitter \n"
   ]
  },
  {
   "cell_type": "code",
   "execution_count": 3,
   "id": "0f314f63",
   "metadata": {},
   "outputs": [
    {
     "name": "stdout",
     "output_type": "stream",
     "text": [
      "Length of PDF pages: 153\n"
     ]
    }
   ],
   "source": [
    "# Loading raw PDFs\n",
    "\n",
    "data_path=\"data/\"\n",
    "def load_pdf_files(data):\n",
    "    loader= DirectoryLoader(data,\n",
    "                            glob='*.pdf',\n",
    "                            loader_cls=PyPDFLoader)\n",
    "    documents=loader.load()\n",
    "    return documents\n",
    "\n",
    "documents= load_pdf_files(data=data_path)\n",
    "print(\"Length of PDF pages:\", len(documents))"
   ]
  },
  {
   "cell_type": "code",
   "execution_count": 4,
   "id": "1c2ed9ae",
   "metadata": {},
   "outputs": [
    {
     "name": "stdout",
     "output_type": "stream",
     "text": [
      "length of text chunks:  365\n"
     ]
    }
   ],
   "source": [
    "# Create Chunks\n",
    "\n",
    "\n",
    "def create_chunks(extracted_data):\n",
    "    text_splitter=RecursiveCharacterTextSplitter(chunk_size=1000,\n",
    "                                                 chunk_overlap=500)\n",
    "    chunks= text_splitter.split_documents(extracted_data)\n",
    "    return chunks\n",
    "\n",
    "chunks=create_chunks(extracted_data=documents)\n",
    "print('length of text chunks: ', len(chunks))"
   ]
  },
  {
   "cell_type": "code",
   "execution_count": 5,
   "id": "0721474f",
   "metadata": {},
   "outputs": [],
   "source": [
    "from langchain.embeddings import HuggingFaceEmbeddings\n",
    "from langchain_community.vectorstores import FAISS\n"
   ]
  },
  {
   "cell_type": "code",
   "execution_count": 6,
   "id": "309870df",
   "metadata": {},
   "outputs": [
    {
     "name": "stderr",
     "output_type": "stream",
     "text": [
      "C:\\Users\\aakan\\AppData\\Local\\Temp\\ipykernel_17460\\1122974969.py:5: LangChainDeprecationWarning: The class `HuggingFaceEmbeddings` was deprecated in LangChain 0.2.2 and will be removed in 1.0. An updated version of the class exists in the :class:`~langchain-huggingface package and should be used instead. To use it run `pip install -U :class:`~langchain-huggingface` and import as `from :class:`~langchain_huggingface import HuggingFaceEmbeddings``.\n",
      "  embedding_model=HuggingFaceEmbeddings(model_name=\"sentence-transformers/all-MiniLM-L6-v2\")\n",
      "c:\\Users\\aakan\\OneDrive\\Desktop\\CODE\\venv\\lib\\site-packages\\tqdm\\auto.py:21: TqdmWarning: IProgress not found. Please update jupyter and ipywidgets. See https://ipywidgets.readthedocs.io/en/stable/user_install.html\n",
      "  from .autonotebook import tqdm as notebook_tqdm\n"
     ]
    }
   ],
   "source": [
    "# Create Vector Embeddings\n",
    "\n",
    "\n",
    "def get_embedding_model():\n",
    "    embedding_model=HuggingFaceEmbeddings(model_name=\"sentence-transformers/all-MiniLM-L6-v2\")\n",
    "    return embedding_model\n",
    "\n",
    "embedding_model=get_embedding_model()"
   ]
  },
  {
   "cell_type": "code",
   "execution_count": 7,
   "id": "0be099cb",
   "metadata": {},
   "outputs": [
    {
     "data": {
      "text/plain": [
       "True"
      ]
     },
     "execution_count": 7,
     "metadata": {},
     "output_type": "execute_result"
    }
   ],
   "source": [
    "from dotenv import load_dotenv, find_dotenv\n",
    "load_dotenv(find_dotenv())"
   ]
  },
  {
   "cell_type": "code",
   "execution_count": 8,
   "id": "3365fb54",
   "metadata": {},
   "outputs": [],
   "source": [
    "# Store embeddings in FAISS\n",
    "\n",
    "DB_FAISS_PATH=\"vectorstore/db_faiss\"\n",
    "db=FAISS.from_documents(chunks, embedding_model)\n",
    "db.save_local(DB_FAISS_PATH)\n"
   ]
  }
 ],
 "metadata": {
  "kernelspec": {
   "display_name": "Python 3",
   "language": "python",
   "name": "python3"
  },
  "language_info": {
   "codemirror_mode": {
    "name": "ipython",
    "version": 3
   },
   "file_extension": ".py",
   "mimetype": "text/x-python",
   "name": "python",
   "nbconvert_exporter": "python",
   "pygments_lexer": "ipython3",
   "version": "3.10.0"
  }
 },
 "nbformat": 4,
 "nbformat_minor": 5
}
